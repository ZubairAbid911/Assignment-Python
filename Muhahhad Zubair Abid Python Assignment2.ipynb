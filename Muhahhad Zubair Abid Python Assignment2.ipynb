{
 "cells": [
  {
   "cell_type": "code",
   "execution_count": 1,
   "metadata": {},
   "outputs": [
    {
     "name": "stdout",
     "output_type": "stream",
     "text": [
      "Enter sub1 marks: 70\n",
      "Enter sub2 marks: 75\n",
      "Enter sub3 marks: 65\n",
      "Enter sub4 marks: 80\n",
      "Enter sub5 marks: 90\n",
      "Total Marks:  380\n",
      "percentage:  76.0\n",
      "A GRADE\n"
     ]
    }
   ],
   "source": [
    "sub1 = int(input(\"Enter sub1 marks: \"))\n",
    "sub2 = int(input(\"Enter sub2 marks: \"))\n",
    "sub3 = int(input(\"Enter sub3 marks: \"))\n",
    "sub4 = int(input(\"Enter sub4 marks: \"))\n",
    "sub5 = int(input(\"Enter sub5 marks: \"))\n",
    "total_marks=sub1+ sub2 + sub3 + sub4 + sub5;\n",
    "per = (total_marks / 500 ) * 100;\n",
    "print(\"Total Marks: \",total_marks)\n",
    "print(\"percentage: \",per)\n",
    "if(per>=80 and per<=100):\n",
    "    print(\"A+ GRADE\")\n",
    "elif(per>=70 and per<80):\n",
    "    print(\"A GRADE\")\n",
    "elif(per>=60 and per<70):\n",
    "    print(\"B GRADE\")\n",
    "elif(per>=50 and per<60):\n",
    "    print(\"C GRADE\")\n",
    "elif(per>=40 and per<50):\n",
    "    print(\"D GRADE\")\n",
    "elif(per>=33 and per<40):\n",
    "    print(\"E GRADE\")\n",
    "elif(per>=0 and per<33):\n",
    "    print(\"F GRADE\")\n",
    "else:\n",
    "    print(\"Invalid Marks\")"
   ]
  },
  {
   "cell_type": "code",
   "execution_count": 2,
   "metadata": {},
   "outputs": [
    {
     "name": "stdout",
     "output_type": "stream",
     "text": [
      "Enter a number: 9\n",
      "Number is odd\n"
     ]
    }
   ],
   "source": [
    "num = int(input(\"Enter a number: \"))\n",
    "if(num%2==0):\n",
    "    print(\"Number is even\")\n",
    "elif(num%2!=0):\n",
    "    print(\"Number is odd\")"
   ]
  },
  {
   "cell_type": "code",
   "execution_count": 3,
   "metadata": {},
   "outputs": [
    {
     "name": "stdout",
     "output_type": "stream",
     "text": [
      "The length of a list is:  4\n"
     ]
    }
   ],
   "source": [
    "arr = [\"Zubair\",\"Hasaan\",\"Wahab\",\"Arslan\"]\n",
    "print(\"The length of a list is: \", len(arr))"
   ]
  },
  {
   "cell_type": "code",
   "execution_count": 4,
   "metadata": {},
   "outputs": [
    {
     "name": "stdout",
     "output_type": "stream",
     "text": [
      "15\n"
     ]
    }
   ],
   "source": [
    "arr = [1,2,3,4,5]\n",
    "add = arr[0] + arr[1] + arr[2] + arr[3] + arr[4]\n",
    "print(add)"
   ]
  },
  {
   "cell_type": "code",
   "execution_count": 5,
   "metadata": {},
   "outputs": [
    {
     "name": "stdout",
     "output_type": "stream",
     "text": [
      "The largest number is:  5\n"
     ]
    }
   ],
   "source": [
    "arr = [1,2,3,4,5]\n",
    "print(\"The largest number is: \", max(arr))"
   ]
  },
  {
   "cell_type": "code",
   "execution_count": 6,
   "metadata": {},
   "outputs": [
    {
     "name": "stdout",
     "output_type": "stream",
     "text": [
      "[1, 1, 2, 3]\n"
     ]
    }
   ],
   "source": [
    "arr = [1,1,2,3,5,8,13,21,34,55,89]\n",
    "b=arr[:4]\n",
    "print(b)"
   ]
  },
  {
   "cell_type": "code",
   "execution_count": null,
   "metadata": {},
   "outputs": [],
   "source": []
  }
 ],
 "metadata": {
  "kernelspec": {
   "display_name": "Python 3",
   "language": "python",
   "name": "python3"
  },
  "language_info": {
   "codemirror_mode": {
    "name": "ipython",
    "version": 3
   },
   "file_extension": ".py",
   "mimetype": "text/x-python",
   "name": "python",
   "nbconvert_exporter": "python",
   "pygments_lexer": "ipython3",
   "version": "3.7.4"
  }
 },
 "nbformat": 4,
 "nbformat_minor": 2
}
